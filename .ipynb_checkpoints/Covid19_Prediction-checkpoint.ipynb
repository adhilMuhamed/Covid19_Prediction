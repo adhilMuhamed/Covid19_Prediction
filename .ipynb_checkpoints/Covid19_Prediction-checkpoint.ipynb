{
 "cells": [
  {
   "cell_type": "markdown",
   "id": "98efd5a5",
   "metadata": {},
   "source": [
    "## Loading Required Libraries"
   ]
  },
  {
   "cell_type": "code",
   "execution_count": 6,
   "id": "bce22c8c",
   "metadata": {},
   "outputs": [
    {
     "name": "stdout",
     "output_type": "stream",
     "text": [
      "Requirement already satisfied: imbalanced-learn in d:\\softwares\\anaconda\\ana\\lib\\site-packages (0.11.0)\n",
      "Requirement already satisfied: scipy>=1.5.0 in d:\\softwares\\anaconda\\ana\\lib\\site-packages (from imbalanced-learn) (1.7.3)\n",
      "Requirement already satisfied: numpy>=1.17.3 in d:\\softwares\\anaconda\\ana\\lib\\site-packages (from imbalanced-learn) (1.21.5)\n",
      "Requirement already satisfied: scikit-learn>=1.0.2 in d:\\softwares\\anaconda\\ana\\lib\\site-packages (from imbalanced-learn) (1.0.2)\n",
      "Requirement already satisfied: joblib>=1.1.1 in d:\\softwares\\anaconda\\ana\\lib\\site-packages (from imbalanced-learn) (1.3.2)\n",
      "Requirement already satisfied: threadpoolctl>=2.0.0 in d:\\softwares\\anaconda\\ana\\lib\\site-packages (from imbalanced-learn) (2.2.0)\n",
      "Note: you may need to restart the kernel to use updated packages.\n"
     ]
    }
   ],
   "source": [
    "pip install imbalanced-learn"
   ]
  },
  {
   "cell_type": "code",
   "execution_count": 1,
   "id": "23732776",
   "metadata": {},
   "outputs": [
    {
     "name": "stdout",
     "output_type": "stream",
     "text": [
      "Collecting xgboost\n",
      "  Downloading xgboost-2.0.0-py3-none-win_amd64.whl (99.7 MB)\n",
      "Requirement already satisfied: numpy in d:\\softwares\\anaconda\\ana\\lib\\site-packages (from xgboost) (1.21.5)\n",
      "Requirement already satisfied: scipy in d:\\softwares\\anaconda\\ana\\lib\\site-packages (from xgboost) (1.7.3)\n",
      "Installing collected packages: xgboost\n",
      "Successfully installed xgboost-2.0.0\n"
     ]
    }
   ],
   "source": [
    "!pip install xgboost"
   ]
  },
  {
   "cell_type": "code",
   "execution_count": 2,
   "id": "ecdf2d25",
   "metadata": {},
   "outputs": [],
   "source": [
    "# Data Preprocessing\n",
    "\n",
    "import numpy as np\n",
    "import pandas as pd\n",
    "\n",
    "# Data Analysis\n",
    "\n",
    "import plotly.express as px\n",
    "import missingno as msno\n",
    "\n",
    "# Feature Selection\n",
    "\n",
    "import scipy.stats as stats\n",
    "from scipy.stats import chi2_contingency\n",
    "\n",
    "# Data Modeling\n",
    "\n",
    "from sklearn.model_selection import train_test_split\n",
    "from imblearn.under_sampling import RandomUnderSampler \n",
    "from sklearn.model_selection import GridSearchCV\n",
    "from sklearn.linear_model import LogisticRegression\n",
    "from sklearn.ensemble import RandomForestClassifier\n",
    "from xgboost import XGBClassifier\n",
    "\n",
    "# Model Evaluation & saving the model\n",
    "\n",
    "from sklearn.metrics import classification_report, confusion_matrix, ConfusionMatrixDisplay, recall_score, accuracy_score, precision_score, f1_score\n",
    "import pickle"
   ]
  },
  {
   "cell_type": "code",
   "execution_count": 3,
   "id": "13167e2f",
   "metadata": {},
   "outputs": [
    {
     "name": "stderr",
     "output_type": "stream",
     "text": [
      "C:\\Users\\moham\\AppData\\Local\\Temp\\ipykernel_6732\\201642362.py:1: DtypeWarning: Columns (2,3,4,5,6) have mixed types. Specify dtype option on import or set low_memory=False.\n",
      "  data = pd.read_csv(\"corona_tested_006.csv\")\n"
     ]
    }
   ],
   "source": [
    "data = pd.read_csv(\"corona_tested_006.csv\")"
   ]
  },
  {
   "cell_type": "code",
   "execution_count": 4,
   "id": "126160e7",
   "metadata": {},
   "outputs": [
    {
     "data": {
      "text/html": [
       "<div>\n",
       "<style scoped>\n",
       "    .dataframe tbody tr th:only-of-type {\n",
       "        vertical-align: middle;\n",
       "    }\n",
       "\n",
       "    .dataframe tbody tr th {\n",
       "        vertical-align: top;\n",
       "    }\n",
       "\n",
       "    .dataframe thead th {\n",
       "        text-align: right;\n",
       "    }\n",
       "</style>\n",
       "<table border=\"1\" class=\"dataframe\">\n",
       "  <thead>\n",
       "    <tr style=\"text-align: right;\">\n",
       "      <th></th>\n",
       "      <th>Ind_ID</th>\n",
       "      <th>Test_date</th>\n",
       "      <th>Cough_symptoms</th>\n",
       "      <th>Fever</th>\n",
       "      <th>Sore_throat</th>\n",
       "      <th>Shortness_of_breath</th>\n",
       "      <th>Headache</th>\n",
       "      <th>Corona</th>\n",
       "      <th>Age_60_above</th>\n",
       "      <th>Sex</th>\n",
       "      <th>Known_contact</th>\n",
       "    </tr>\n",
       "  </thead>\n",
       "  <tbody>\n",
       "    <tr>\n",
       "      <th>0</th>\n",
       "      <td>1</td>\n",
       "      <td>11-03-2020</td>\n",
       "      <td>TRUE</td>\n",
       "      <td>FALSE</td>\n",
       "      <td>TRUE</td>\n",
       "      <td>FALSE</td>\n",
       "      <td>FALSE</td>\n",
       "      <td>negative</td>\n",
       "      <td>None</td>\n",
       "      <td>None</td>\n",
       "      <td>Abroad</td>\n",
       "    </tr>\n",
       "    <tr>\n",
       "      <th>1</th>\n",
       "      <td>2</td>\n",
       "      <td>11-03-2020</td>\n",
       "      <td>FALSE</td>\n",
       "      <td>TRUE</td>\n",
       "      <td>FALSE</td>\n",
       "      <td>FALSE</td>\n",
       "      <td>FALSE</td>\n",
       "      <td>positive</td>\n",
       "      <td>None</td>\n",
       "      <td>None</td>\n",
       "      <td>Abroad</td>\n",
       "    </tr>\n",
       "    <tr>\n",
       "      <th>2</th>\n",
       "      <td>3</td>\n",
       "      <td>11-03-2020</td>\n",
       "      <td>FALSE</td>\n",
       "      <td>TRUE</td>\n",
       "      <td>FALSE</td>\n",
       "      <td>FALSE</td>\n",
       "      <td>FALSE</td>\n",
       "      <td>positive</td>\n",
       "      <td>None</td>\n",
       "      <td>None</td>\n",
       "      <td>Abroad</td>\n",
       "    </tr>\n",
       "    <tr>\n",
       "      <th>3</th>\n",
       "      <td>4</td>\n",
       "      <td>11-03-2020</td>\n",
       "      <td>TRUE</td>\n",
       "      <td>FALSE</td>\n",
       "      <td>FALSE</td>\n",
       "      <td>FALSE</td>\n",
       "      <td>FALSE</td>\n",
       "      <td>negative</td>\n",
       "      <td>None</td>\n",
       "      <td>None</td>\n",
       "      <td>Abroad</td>\n",
       "    </tr>\n",
       "    <tr>\n",
       "      <th>4</th>\n",
       "      <td>5</td>\n",
       "      <td>11-03-2020</td>\n",
       "      <td>TRUE</td>\n",
       "      <td>FALSE</td>\n",
       "      <td>FALSE</td>\n",
       "      <td>FALSE</td>\n",
       "      <td>FALSE</td>\n",
       "      <td>negative</td>\n",
       "      <td>None</td>\n",
       "      <td>None</td>\n",
       "      <td>Contact with confirmed</td>\n",
       "    </tr>\n",
       "  </tbody>\n",
       "</table>\n",
       "</div>"
      ],
      "text/plain": [
       "   Ind_ID   Test_date Cough_symptoms  Fever Sore_throat Shortness_of_breath  \\\n",
       "0       1  11-03-2020           TRUE  FALSE        TRUE               FALSE   \n",
       "1       2  11-03-2020          FALSE   TRUE       FALSE               FALSE   \n",
       "2       3  11-03-2020          FALSE   TRUE       FALSE               FALSE   \n",
       "3       4  11-03-2020           TRUE  FALSE       FALSE               FALSE   \n",
       "4       5  11-03-2020           TRUE  FALSE       FALSE               FALSE   \n",
       "\n",
       "  Headache    Corona Age_60_above   Sex           Known_contact  \n",
       "0    FALSE  negative         None  None                  Abroad  \n",
       "1    FALSE  positive         None  None                  Abroad  \n",
       "2    FALSE  positive         None  None                  Abroad  \n",
       "3    FALSE  negative         None  None                  Abroad  \n",
       "4    FALSE  negative         None  None  Contact with confirmed  "
      ]
     },
     "execution_count": 4,
     "metadata": {},
     "output_type": "execute_result"
    }
   ],
   "source": [
    "data.head()"
   ]
  },
  {
   "cell_type": "code",
   "execution_count": 6,
   "id": "1d298eed",
   "metadata": {},
   "outputs": [
    {
     "data": {
      "text/plain": [
       "Ind_ID                 0\n",
       "Test_date              0\n",
       "Cough_symptoms         0\n",
       "Fever                  0\n",
       "Sore_throat            0\n",
       "Shortness_of_breath    0\n",
       "Headache               0\n",
       "Corona                 0\n",
       "Age_60_above           0\n",
       "Sex                    0\n",
       "Known_contact          0\n",
       "dtype: int64"
      ]
     },
     "execution_count": 6,
     "metadata": {},
     "output_type": "execute_result"
    }
   ],
   "source": [
    "data.isnull().sum()"
   ]
  },
  {
   "cell_type": "code",
   "execution_count": 7,
   "id": "42972f79",
   "metadata": {},
   "outputs": [
    {
     "name": "stdout",
     "output_type": "stream",
     "text": [
      "<class 'pandas.core.frame.DataFrame'>\n",
      "RangeIndex: 278848 entries, 0 to 278847\n",
      "Data columns (total 11 columns):\n",
      " #   Column               Non-Null Count   Dtype \n",
      "---  ------               --------------   ----- \n",
      " 0   Ind_ID               278848 non-null  int64 \n",
      " 1   Test_date            278848 non-null  object\n",
      " 2   Cough_symptoms       278848 non-null  object\n",
      " 3   Fever                278848 non-null  object\n",
      " 4   Sore_throat          278848 non-null  object\n",
      " 5   Shortness_of_breath  278848 non-null  object\n",
      " 6   Headache             278848 non-null  object\n",
      " 7   Corona               278848 non-null  object\n",
      " 8   Age_60_above         278848 non-null  object\n",
      " 9   Sex                  278848 non-null  object\n",
      " 10  Known_contact        278848 non-null  object\n",
      "dtypes: int64(1), object(10)\n",
      "memory usage: 23.4+ MB\n"
     ]
    }
   ],
   "source": [
    "data.info()"
   ]
  },
  {
   "cell_type": "code",
   "execution_count": 18,
   "id": "b33538e6",
   "metadata": {},
   "outputs": [
    {
     "name": "stdout",
     "output_type": "stream",
     "text": [
      "Feature: Cough_symptoms with ['TRUE' 'FALSE' 'None' False True] Levels\n",
      "Feature: Fever with ['FALSE' 'TRUE' 'None' False True] Levels\n",
      "Feature: Sore_throat with ['TRUE' 'FALSE' 'None' False True] Levels\n",
      "Feature: Shortness_of_breath with ['FALSE' 'TRUE' 'None' False True] Levels\n",
      "Feature: Headache with ['FALSE' 'TRUE' 'None' False True] Levels\n",
      "Feature: Corona with ['negative' 'positive' 'other'] Levels\n",
      "Feature: Age_60_above with ['None' 'No' 'Yes'] Levels\n",
      "Feature: Sex with ['None' 'male' 'female'] Levels\n",
      "Feature: Known_contact with ['Abroad' 'Contact with confirmed' 'Other'] Levels\n"
     ]
    }
   ],
   "source": [
    "# Checking the levels for categorical features\n",
    "\n",
    "def show(data):\n",
    "  for i in data.columns[2:]:\n",
    "    print(f\"Feature: {i} with {data[i].unique()} Levels\")\n",
    "\n",
    "show(data)"
   ]
  },
  {
   "cell_type": "code",
   "execution_count": 21,
   "id": "4d9f8454",
   "metadata": {},
   "outputs": [
    {
     "name": "stdout",
     "output_type": "stream",
     "text": [
      " Test_date  20-04-2020    10921\n",
      "19-04-2020    10199\n",
      "22-04-2020     9646\n",
      "21-04-2020     9624\n",
      "16-04-2020     9138\n",
      "23-04-2020     8744\n",
      "01-04-2020     8654\n",
      "13-04-2020     8425\n",
      "02-04-2020     8188\n",
      "03-04-2020     8079\n",
      "17-04-2020     7645\n",
      "05-04-2020     7509\n",
      "30-04-2020     7313\n",
      "27-04-2020     7304\n",
      "15-04-2020     7149\n",
      "31-03-2020     7134\n",
      "24-04-2020     7028\n",
      "26-03-2020     6663\n",
      "14-04-2020     6571\n",
      "28-04-2020     6334\n",
      "18-04-2020     6321\n",
      "26-04-2020     6131\n",
      "12-04-2020     5984\n",
      "27-03-2020     5963\n",
      "07-04-2020     5931\n",
      "30-03-2020     5915\n",
      "10-04-2020     5678\n",
      "28-03-2020     5602\n",
      "25-03-2020     5495\n",
      "06-04-2020     5368\n",
      "29-03-2020     5277\n",
      "04-04-2020     5145\n",
      "25-04-2020     5052\n",
      "24-03-2020     4735\n",
      "09-04-2020     4539\n",
      "11-04-2020     4341\n",
      "29-04-2020     4259\n",
      "08-04-2020     4058\n",
      "22-03-2020     3565\n",
      "23-03-2020     3494\n",
      "19-03-2020     2243\n",
      "18-03-2020     1991\n",
      "20-03-2020     1870\n",
      "21-03-2020     1648\n",
      "17-03-2020     1463\n",
      "16-03-2020     1304\n",
      "15-03-2020      985\n",
      "13-03-2020      686\n",
      "12-03-2020      634\n",
      "14-03-2020      609\n",
      "11-03-2020      294\n",
      "Name: Test_date, dtype: int64 \n",
      " Cough_symptoms  False    127531\n",
      "FALSE    108837\n",
      "TRUE      21983\n",
      "True      20245\n",
      "None        252\n",
      "Name: Cough_symptoms, dtype: int64 \n",
      " Fever  False    137774\n",
      "FALSE    119070\n",
      "TRUE      11750\n",
      "True      10002\n",
      "None        252\n",
      "Name: Fever, dtype: int64 \n",
      " Sore_throat  False    212584\n",
      "FALSE     64337\n",
      "TRUE       1198\n",
      "True        728\n",
      "None          1\n",
      "Name: Sore_throat, dtype: int64 \n",
      " Shortness_of_breath  False    212842\n",
      "FALSE     64428\n",
      "TRUE       1107\n",
      "True        470\n",
      "None          1\n",
      "Name: Shortness_of_breath, dtype: int64 \n",
      " Headache  False    212326\n",
      "FALSE     64107\n",
      "TRUE       1428\n",
      "True        986\n",
      "None          1\n",
      "Name: Headache, dtype: int64 \n",
      " Corona  negative    260227\n",
      "positive     14729\n",
      "other         3892\n",
      "Name: Corona, dtype: int64 \n",
      " Age_60_above  None    127320\n",
      "No      125703\n",
      "Yes      25825\n",
      "Name: Age_60_above, dtype: int64 \n",
      " Sex  female    130158\n",
      "male      129127\n",
      "None       19563\n",
      "Name: Sex, dtype: int64 \n",
      " Known_contact  Other                     242741\n",
      "Abroad                     25468\n",
      "Contact with confirmed     10639\n",
      "Name: Known_contact, dtype: int64 \n"
     ]
    }
   ],
   "source": [
    "def show1(data):\n",
    "  for i in data.columns[1:]:\n",
    "    print(f\" {i}  {data[i].value_counts()} \")\n",
    "\n",
    "show1(data)"
   ]
  },
  {
   "cell_type": "code",
   "execution_count": null,
   "id": "8497f9fd",
   "metadata": {},
   "outputs": [],
   "source": []
  }
 ],
 "metadata": {
  "kernelspec": {
   "display_name": "Python 3 (ipykernel)",
   "language": "python",
   "name": "python3"
  },
  "language_info": {
   "codemirror_mode": {
    "name": "ipython",
    "version": 3
   },
   "file_extension": ".py",
   "mimetype": "text/x-python",
   "name": "python",
   "nbconvert_exporter": "python",
   "pygments_lexer": "ipython3",
   "version": "3.9.12"
  }
 },
 "nbformat": 4,
 "nbformat_minor": 5
}
